{
 "cells": [
  {
   "cell_type": "markdown",
   "id": "0d05cb7e",
   "metadata": {},
   "source": [
    "# NumPy 1 Basics\n",
    "*Generated on 2025-10-28*"
   ]
  },
  {
   "cell_type": "code",
   "execution_count": 1,
   "id": "a97fb7f9",
   "metadata": {},
   "outputs": [],
   "source": [
    "import numpy as np\n",
    "\n"
   ]
  },
  {
   "cell_type": "markdown",
   "id": "c046a0da",
   "metadata": {},
   "source": [
    "## 1. Why NumPy?\n",
    "NumPy provides faster array operations than Python lists."
   ]
  },
  {
   "cell_type": "code",
   "execution_count": null,
   "id": "5c47fbac",
   "metadata": {},
   "outputs": [],
   "source": [
    "import time\n",
    "N=100000\n",
    "py_list=list(range(N))\n",
    "start=time.time()\n",
    "[x+1 for x in py_list]\n",
    "print('List time:',time.time()-start)\n"
   ]
  },
  {
   "cell_type": "code",
   "execution_count": null,
   "id": "2a642cc9",
   "metadata": {},
   "outputs": [],
   "source": [
    "arr=np.arange(N)\n",
    "start=time.time()\n",
    "arr+1\n",
    "print('NumPy time:',time.time()-start)"
   ]
  },
  {
   "cell_type": "markdown",
   "id": "0b60ad74",
   "metadata": {},
   "source": [
    "**Practice:** Compare the speed of adding 2 to each element using list and NumPy array."
   ]
  },
  {
   "cell_type": "code",
   "execution_count": null,
   "id": "c3ef9218",
   "metadata": {},
   "outputs": [],
   "source": [
    "# answer here\n"
   ]
  },
  {
   "cell_type": "markdown",
   "id": "5c09074f",
   "metadata": {},
   "source": [
    "## 2. Array Creation\n",
    "Arrays can be created from lists or with helper functions."
   ]
  },
  {
   "cell_type": "code",
   "execution_count": null,
   "id": "18dcc97b",
   "metadata": {},
   "outputs": [],
   "source": [
    "a=np.array([1,2,3])\n",
    "a"
   ]
  },
  {
   "cell_type": "code",
   "execution_count": null,
   "id": "7fb4ffc2",
   "metadata": {},
   "outputs": [],
   "source": [
    "np.zeros((2,3))"
   ]
  },
  {
   "cell_type": "code",
   "execution_count": null,
   "id": "95685a98",
   "metadata": {},
   "outputs": [],
   "source": [
    "np.ones((2,2))"
   ]
  },
  {
   "cell_type": "code",
   "execution_count": null,
   "id": "03b2e72a",
   "metadata": {},
   "outputs": [],
   "source": [
    "np.arange(5,15,2)"
   ]
  },
  {
   "cell_type": "code",
   "execution_count": null,
   "id": "b831c1fc",
   "metadata": {},
   "outputs": [],
   "source": [
    "np.linspace(0,1,5)"
   ]
  },
  {
   "cell_type": "markdown",
   "id": "e4d6477d",
   "metadata": {},
   "source": [
    "**Practice:** Create an array of even numbers from 2 to 20 using arange and another with 4 values from 10 to 13 using linspace."
   ]
  },
  {
   "cell_type": "code",
   "execution_count": null,
   "id": "f82d6ec0",
   "metadata": {},
   "outputs": [],
   "source": [
    "# answer here\n",
    "np.arange(2,21,2)\n",
    "np.linspace(10,13,4)\n",
    "\n"
   ]
  },
  {
   "cell_type": "markdown",
   "id": "7c8ce1c5",
   "metadata": {},
   "source": []
  },
  {
   "cell_type": "markdown",
   "id": "5719afaa",
   "metadata": {},
   "source": [
    "#dtype\n",
    "#astype"
   ]
  },
  {
   "cell_type": "markdown",
   "id": "176dbf76",
   "metadata": {},
   "source": [
    "## 3. Array Attributes\n",
    "Attributes describe shape, type, and dimensions of arrays."
   ]
  },
  {
   "cell_type": "code",
   "execution_count": null,
   "id": "35871ab2",
   "metadata": {},
   "outputs": [],
   "source": [
    "arr=np.arange(12).reshape(3,4)\n",
    "arr.shape\n"
   ]
  },
  {
   "cell_type": "code",
   "execution_count": null,
   "id": "7ffad69b",
   "metadata": {},
   "outputs": [],
   "source": [
    "arr.ndim"
   ]
  },
  {
   "cell_type": "code",
   "execution_count": null,
   "id": "8e2e38b7",
   "metadata": {},
   "outputs": [],
   "source": [
    "arr.size"
   ]
  },
  {
   "cell_type": "code",
   "execution_count": null,
   "id": "10ca2c8e",
   "metadata": {},
   "outputs": [],
   "source": [
    "arr.dtype"
   ]
  },
  {
   "cell_type": "markdown",
   "id": "89f4148f",
   "metadata": {},
   "source": [
    "**Practice:** Create a 2x5 array using arange and print its shape, ndim, size, and dtype."
   ]
  },
  {
   "cell_type": "code",
   "execution_count": null,
   "id": "aeb7e5a2",
   "metadata": {},
   "outputs": [],
   "source": [
    "# answer here\n"
   ]
  },
  {
   "cell_type": "markdown",
   "id": "f926f54a",
   "metadata": {},
   "source": [
    "## 4. Basic Array Operations\n",
    "NumPy supports element-wise arithmetic on arrays."
   ]
  },
  {
   "cell_type": "code",
   "execution_count": null,
   "id": "5e8d6b91",
   "metadata": {},
   "outputs": [],
   "source": [
    "x=np.array([1,2,3])\n",
    "y=np.array([10,20,30])\n",
    "print(x+y)\n",
    "print(x*y)\n",
    "print(x**2)"
   ]
  },
  {
   "cell_type": "markdown",
   "id": "1708b0df",
   "metadata": {},
   "source": [
    "**Practice:** Given arrays p=[2,4,6] and q=[1,1,1], compute 2*p + 3*q."
   ]
  },
  {
   "cell_type": "code",
   "execution_count": null,
   "id": "144d5479",
   "metadata": {},
   "outputs": [],
   "source": [
    "# answer here\n"
   ]
  },
  {
   "cell_type": "markdown",
   "id": "36ec6774",
   "metadata": {},
   "source": [
    "## 5. Indexing and Slicing\n",
    "Access and modify specific parts of arrays."
   ]
  },
  {
   "cell_type": "code",
   "execution_count": null,
   "id": "b6add4b9",
   "metadata": {},
   "outputs": [],
   "source": [
    "arr=np.arange(10)\n",
    "arr[2:7]"
   ]
  },
  {
   "cell_type": "code",
   "execution_count": null,
   "id": "51391948",
   "metadata": {},
   "outputs": [],
   "source": [
    "arr[::2]"
   ]
  },
  {
   "cell_type": "code",
   "execution_count": null,
   "id": "e9e9d0f1",
   "metadata": {},
   "outputs": [],
   "source": [
    "b=np.arange(12).reshape(3,4)\n",
    "b[1:,1:3]"
   ]
  },
  {
   "cell_type": "markdown",
   "id": "f045fe53",
   "metadata": {},
   "source": [
    "**Practice:** From np.arange(20), print elements from index 5 to 12. For a 4x4 array, print last 2 rows and last 2 columns."
   ]
  },
  {
   "cell_type": "code",
   "execution_count": null,
   "id": "dfda71d8",
   "metadata": {},
   "outputs": [],
   "source": [
    "# answer here\n"
   ]
  },
  {
   "cell_type": "markdown",
   "id": "0d73c9b1",
   "metadata": {},
   "source": []
  },
  {
   "cell_type": "markdown",
   "id": "5ceede3f",
   "metadata": {},
   "source": [
    "b = np.arange(16).reshape(4,4)\n",
    "print(b[-2:, -2:])"
   ]
  }
 ],
 "metadata": {
  "kernelspec": {
   "display_name": "Python 3",
   "language": "python",
   "name": "python3"
  },
  "language_info": {
   "codemirror_mode": {
    "name": "ipython",
    "version": 3
   },
   "file_extension": ".py",
   "mimetype": "text/x-python",
   "name": "python",
   "nbconvert_exporter": "python",
   "pygments_lexer": "ipython3",
   "version": "3.11.9"
  }
 },
 "nbformat": 4,
 "nbformat_minor": 5
}
