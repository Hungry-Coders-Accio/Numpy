{
 "cells": [
  {
   "cell_type": "markdown",
   "id": "f5998b2e",
   "metadata": {},
   "source": [
    "# NumPy 2 Advanced\n",
    "*Generated on 2025-10-28*"
   ]
  },
  {
   "cell_type": "code",
   "execution_count": null,
   "id": "6e4e6e39",
   "metadata": {},
   "outputs": [],
   "source": [
    "import numpy as np\n",
    "np.set_printoptions(suppress=True)\n"
   ]
  },
  {
   "cell_type": "markdown",
   "id": "c9ad4761",
   "metadata": {},
   "source": [
    "## 6. Mathematical Operations\n",
    "Perform element-wise mathematical operations."
   ]
  },
  {
   "cell_type": "code",
   "execution_count": null,
   "id": "776396d0",
   "metadata": {},
   "outputs": [],
   "source": [
    "vals=np.linspace(-3,3,7)\n",
    "np.exp(vals)"
   ]
  },
  {
   "cell_type": "code",
   "execution_count": null,
   "id": "0178f1fd",
   "metadata": {},
   "outputs": [],
   "source": [
    "np.log(np.abs(vals[vals!=0]))"
   ]
  },
  {
   "cell_type": "markdown",
   "id": "7ed5512d",
   "metadata": {},
   "source": [
    "**Practice:** Create 7 values from 0 to π using linspace and compute sin and cos for them."
   ]
  },
  {
   "cell_type": "code",
   "execution_count": null,
   "id": "7c89001e",
   "metadata": {},
   "outputs": [],
   "source": [
    "# answer here\n"
   ]
  },
  {
   "cell_type": "markdown",
   "id": "62756534",
   "metadata": {},
   "source": [
    "## 7. Reshaping Arrays\n",
    "Change array dimensions using reshape or ravel."
   ]
  },
  {
   "cell_type": "code",
   "execution_count": null,
   "id": "d586ff9f",
   "metadata": {},
   "outputs": [],
   "source": [
    "arr=np.arange(12)\n",
    "arr.reshape(3,4)"
   ]
  },
  {
   "cell_type": "code",
   "execution_count": null,
   "id": "a12b0687",
   "metadata": {},
   "outputs": [],
   "source": [
    "arr.reshape(3,4).ravel()"
   ]
  },
  {
   "cell_type": "markdown",
   "id": "9a61e1a8",
   "metadata": {},
   "source": [
    "**Practice:** Create np.arange(8) and reshape to 2x4, then flatten it."
   ]
  },
  {
   "cell_type": "code",
   "execution_count": null,
   "id": "92a91630",
   "metadata": {},
   "outputs": [],
   "source": [
    "# answer here\n"
   ]
  },
  {
   "cell_type": "markdown",
   "id": "e3e66c07",
   "metadata": {},
   "source": [
    "## 8. Statistical Functions\n",
    "Use built-in functions for mean, sum, median, std."
   ]
  },
  {
   "cell_type": "code",
   "execution_count": null,
   "id": "f1e12fe0",
   "metadata": {},
   "outputs": [],
   "source": [
    "data=np.array([[5,7,9],[2,4,6],[8,10,12]])\n",
    "data.mean()"
   ]
  },
  {
   "cell_type": "code",
   "execution_count": null,
   "id": "e05ce258",
   "metadata": {},
   "outputs": [],
   "source": [
    "data.sum(axis=0)"
   ]
  },
  {
   "cell_type": "markdown",
   "id": "3f60eca8",
   "metadata": {},
   "source": [
    "**Practice:** Create a 4x3 array and find column-wise mean and overall standard deviation."
   ]
  },
  {
   "cell_type": "code",
   "execution_count": null,
   "id": "6cba6a0e",
   "metadata": {},
   "outputs": [],
   "source": [
    "# answer here\n"
   ]
  },
  {
   "cell_type": "markdown",
   "id": "b86ae90d",
   "metadata": {},
   "source": [
    "## 9. Broadcasting\n",
    "Arrays of different shapes can operate together via broadcasting."
   ]
  },
  {
   "cell_type": "code",
   "execution_count": null,
   "id": "9aad5846",
   "metadata": {},
   "outputs": [],
   "source": [
    "M=np.arange(12).reshape(3,4)\n",
    "v=np.array([10,20,30,40])\n",
    "M+v"
   ]
  },
  {
   "cell_type": "code",
   "execution_count": null,
   "id": "64d96e36",
   "metadata": {},
   "outputs": [],
   "source": [
    "col=np.array([[1],[2],[3]])\n",
    "M*col"
   ]
  },
  {
   "cell_type": "markdown",
   "id": "04427b6b",
   "metadata": {},
   "source": [
    "**Practice:** Create a 3x3 matrix K and vector w=[1,0,-1]; add w to each row of K using broadcasting."
   ]
  },
  {
   "cell_type": "code",
   "execution_count": null,
   "id": "f85b5c52",
   "metadata": {},
   "outputs": [],
   "source": [
    "# answer here\n"
   ]
  },
  {
   "cell_type": "markdown",
   "id": "0492d587",
   "metadata": {},
   "source": [
    "## 10. Working with 2D Arrays\n",
    "Matrix operations include dot product, identity, and solving equations."
   ]
  },
  {
   "cell_type": "code",
   "execution_count": null,
   "id": "0d7bebea",
   "metadata": {},
   "outputs": [],
   "source": [
    "A=np.array([[1,2],[3,4]])\n",
    "B=np.array([[5,6],[7,8]])\n",
    "A@B"
   ]
  },
  {
   "cell_type": "code",
   "execution_count": null,
   "id": "f5a2c235",
   "metadata": {},
   "outputs": [],
   "source": [
    "np.eye(2)"
   ]
  },
  {
   "cell_type": "code",
   "execution_count": null,
   "id": "c86239a7",
   "metadata": {},
   "outputs": [],
   "source": [
    "b=np.array([1,0])\n",
    "np.linalg.solve(A,b)"
   ]
  },
  {
   "cell_type": "markdown",
   "id": "4dbfede5",
   "metadata": {},
   "source": [
    "**Practice:** Create two 2x2 matrices and compute A@B and B@A. Then solve [[2,1],[1,2]] x=[3,3]."
   ]
  },
  {
   "cell_type": "code",
   "execution_count": null,
   "id": "dc3502d0",
   "metadata": {},
   "outputs": [],
   "source": [
    "# answer here\n"
   ]
  }
 ],
 "metadata": {
  "kernelspec": {
   "display_name": "Python 3",
   "language": "python",
   "name": "python3"
  },
  "language_info": {
   "name": "python",
   "version": "3"
  }
 },
 "nbformat": 4,
 "nbformat_minor": 5
}
